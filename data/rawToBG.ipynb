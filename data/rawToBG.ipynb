{
 "cells": [
  {
   "cell_type": "code",
   "execution_count": 25,
   "metadata": {},
   "outputs": [],
   "source": [
    "import os\n",
    "import pandas as pd\n",
    "fpRaw = \"./Environment_Temperature_change_E_All_Data_NOFLAG.csv\"\n",
    "fpOut = \"./DeltaTempByYear.csv\""
   ]
  },
  {
   "cell_type": "code",
   "execution_count": 33,
   "metadata": {},
   "outputs": [
    {
     "name": "stdout",
     "output_type": "stream",
     "text": [
      "(9656, 66)\n",
      "Index(['Area Code', 'Area', 'Months Code', 'Months', 'Element Code', 'Element',\n",
      "       'Unit', 'Y1961', 'Y1962', 'Y1963', 'Y1964', 'Y1965', 'Y1966', 'Y1967',\n",
      "       'Y1968', 'Y1969', 'Y1970', 'Y1971', 'Y1972', 'Y1973', 'Y1974', 'Y1975',\n",
      "       'Y1976', 'Y1977', 'Y1978', 'Y1979', 'Y1980', 'Y1981', 'Y1982', 'Y1983',\n",
      "       'Y1984', 'Y1985', 'Y1986', 'Y1987', 'Y1988', 'Y1989', 'Y1990', 'Y1991',\n",
      "       'Y1992', 'Y1993', 'Y1994', 'Y1995', 'Y1996', 'Y1997', 'Y1998', 'Y1999',\n",
      "       'Y2000', 'Y2001', 'Y2002', 'Y2003', 'Y2004', 'Y2005', 'Y2006', 'Y2007',\n",
      "       'Y2008', 'Y2009', 'Y2010', 'Y2011', 'Y2012', 'Y2013', 'Y2014', 'Y2015',\n",
      "       'Y2016', 'Y2017', 'Y2018', 'Y2019'],\n",
      "      dtype='object')\n"
     ]
    }
   ],
   "source": [
    "#https://www.kaggle.com/datasets/sevgisarac/temperature-change/\n",
    "dfRaw = pd.read_csv(fpRaw,encoding='cp1252')\n",
    "print(dfRaw.shape)\n",
    "print(dfRaw.columns)"
   ]
  },
  {
   "cell_type": "code",
   "execution_count": 34,
   "metadata": {},
   "outputs": [
    {
     "name": "stdout",
     "output_type": "stream",
     "text": [
      "(235, 66)\n"
     ]
    }
   ],
   "source": [
    "# Data contains many kinds of observations\n",
    "# Keep only change in Temperature data by year\n",
    "df = dfRaw\n",
    "df = df[df.Months == \"Meteorological year\" ]\n",
    "df = df[df.Element == \"Temperature change\"]\n",
    "# All datum with area code above 5000 are aggregates e.g. AFRICA\n",
    "df = df[df[\"Area Code\"] < 5000]\n",
    "# Many small island nations have very long, conglomirated names\n",
    "# Remove the longer names for sake of presentation\n",
    "lenTable = list(len(area) <30 for area in df[\"Area\"])\n",
    "df = df[lenTable]\n",
    "print(df.shape)\n"
   ]
  },
  {
   "cell_type": "code",
   "execution_count": 35,
   "metadata": {},
   "outputs": [
    {
     "name": "stdout",
     "output_type": "stream",
     "text": [
      "(192, 7)\n"
     ]
    },
    {
     "data": {
      "text/html": [
       "<div>\n",
       "<style scoped>\n",
       "    .dataframe tbody tr th:only-of-type {\n",
       "        vertical-align: middle;\n",
       "    }\n",
       "\n",
       "    .dataframe tbody tr th {\n",
       "        vertical-align: top;\n",
       "    }\n",
       "\n",
       "    .dataframe thead th {\n",
       "        text-align: right;\n",
       "    }\n",
       "</style>\n",
       "<table border=\"1\" class=\"dataframe\">\n",
       "  <thead>\n",
       "    <tr style=\"text-align: right;\">\n",
       "      <th></th>\n",
       "      <th>Area</th>\n",
       "      <th>1960s</th>\n",
       "      <th>1970s</th>\n",
       "      <th>1980s</th>\n",
       "      <th>1990s</th>\n",
       "      <th>2000s</th>\n",
       "      <th>2010s</th>\n",
       "    </tr>\n",
       "  </thead>\n",
       "  <tbody>\n",
       "    <tr>\n",
       "      <th>32</th>\n",
       "      <td>Afghanistan</td>\n",
       "      <td>-0.1294</td>\n",
       "      <td>0.0317</td>\n",
       "      <td>0.2145</td>\n",
       "      <td>0.344700</td>\n",
       "      <td>0.970400</td>\n",
       "      <td>1.1188</td>\n",
       "    </tr>\n",
       "    <tr>\n",
       "      <th>66</th>\n",
       "      <td>Albania</td>\n",
       "      <td>0.1005</td>\n",
       "      <td>-0.1760</td>\n",
       "      <td>0.0346</td>\n",
       "      <td>0.396700</td>\n",
       "      <td>0.927000</td>\n",
       "      <td>1.5816</td>\n",
       "    </tr>\n",
       "    <tr>\n",
       "      <th>100</th>\n",
       "      <td>Algeria</td>\n",
       "      <td>0.0972</td>\n",
       "      <td>-0.1315</td>\n",
       "      <td>0.5516</td>\n",
       "      <td>0.799800</td>\n",
       "      <td>1.338700</td>\n",
       "      <td>1.5400</td>\n",
       "    </tr>\n",
       "    <tr>\n",
       "      <th>134</th>\n",
       "      <td>American Samoa</td>\n",
       "      <td>-0.1020</td>\n",
       "      <td>0.0145</td>\n",
       "      <td>0.3040</td>\n",
       "      <td>0.714667</td>\n",
       "      <td>0.782889</td>\n",
       "      <td>1.1611</td>\n",
       "    </tr>\n",
       "    <tr>\n",
       "      <th>168</th>\n",
       "      <td>Andorra</td>\n",
       "      <td>0.0773</td>\n",
       "      <td>-0.1164</td>\n",
       "      <td>0.4487</td>\n",
       "      <td>0.961500</td>\n",
       "      <td>1.199000</td>\n",
       "      <td>1.5096</td>\n",
       "    </tr>\n",
       "  </tbody>\n",
       "</table>\n",
       "</div>"
      ],
      "text/plain": [
       "               Area   1960s   1970s   1980s     1990s     2000s   2010s\n",
       "32      Afghanistan -0.1294  0.0317  0.2145  0.344700  0.970400  1.1188\n",
       "66          Albania  0.1005 -0.1760  0.0346  0.396700  0.927000  1.5816\n",
       "100         Algeria  0.0972 -0.1315  0.5516  0.799800  1.338700  1.5400\n",
       "134  American Samoa -0.1020  0.0145  0.3040  0.714667  0.782889  1.1611\n",
       "168         Andorra  0.0773 -0.1164  0.4487  0.961500  1.199000  1.5096"
      ]
     },
     "execution_count": 35,
     "metadata": {},
     "output_type": "execute_result"
    }
   ],
   "source": [
    "# Aggregate data by decade to reduce volitility and reduce storage space\n",
    "# Remove incomplete entries and keep only the new columns and state name\n",
    "def getColNames(decade):\n",
    "    years = range(0,10)\n",
    "    return [\"Y\"+ str(decade[:-2])+str(year) for year in years]\n",
    "\n",
    "decades = [\"1960s\",\"1970s\",\"1980s\",\"1990s\",\"2000s\",\"2010s\"]\n",
    "df[\"Y1960\"] = 0\n",
    "for decade in decades:\n",
    "    years = getColNames(decade)\n",
    "    df[decade] = df[years].mean(axis=1)\n",
    "    #.mean(skipna=True,numeric_only=True, axis=0)\n",
    "df = df[[\"Area\"]+decades]\n",
    "df = df.dropna()\n",
    "print(df.shape)\n",
    "df.head()"
   ]
  },
  {
   "cell_type": "code",
   "execution_count": 14,
   "metadata": {},
   "outputs": [],
   "source": [
    "#Write Background Data to File\n",
    "fileBG = \"dataBG.json\"\n",
    "fpBG = os.path.join(os.getcwd(),\"wllm\",\"data\", fileBG)         \n",
    "file = open(fpBG, \"w\")\n",
    "toFile = df.to_json(orient=\"split\")\n",
    "file.write(toFile)\n",
    "file.close()"
   ]
  }
 ],
 "metadata": {
  "kernelspec": {
   "display_name": "Python 3.7.13 ('base')",
   "language": "python",
   "name": "python3"
  },
  "language_info": {
   "codemirror_mode": {
    "name": "ipython",
    "version": 3
   },
   "file_extension": ".py",
   "mimetype": "text/x-python",
   "name": "python",
   "nbconvert_exporter": "python",
   "pygments_lexer": "ipython3",
   "version": "3.7.13"
  },
  "orig_nbformat": 4,
  "vscode": {
   "interpreter": {
    "hash": "2469a70536e4d2335a2ea8907942d0699c37342a371ac185bdb5b0aa6f073890"
   }
  }
 },
 "nbformat": 4,
 "nbformat_minor": 2
}
