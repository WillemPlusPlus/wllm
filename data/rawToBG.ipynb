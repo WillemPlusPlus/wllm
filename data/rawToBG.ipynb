{
 "cells": [
  {
   "cell_type": "code",
   "execution_count": 14,
   "metadata": {},
   "outputs": [],
   "source": [
    "import os\n",
    "import pandas as pd\n",
    "fpRaw = \"./data/Environment_Temperature_change_E_All_Data_NOFLAG.csv\""
   ]
  },
  {
   "cell_type": "code",
   "execution_count": 50,
   "metadata": {},
   "outputs": [
    {
     "data": {
      "text/plain": [
       "array(['Temperature change', 'Standard Deviation'], dtype=object)"
      ]
     },
     "execution_count": 50,
     "metadata": {},
     "output_type": "execute_result"
    }
   ],
   "source": [
    "#https://www.kaggle.com/datasets/sevgisarac/temperature-change/\n",
    "dfRaw = pd.read_csv(fpRaw)\n",
    "dfRaw.Element.unique()"
   ]
  },
  {
   "cell_type": "code",
   "execution_count": 55,
   "metadata": {},
   "outputs": [],
   "source": [
    "\n",
    "df = dfRaw\n",
    "df = df[df.Months == \"Meteorological year\" ]\n",
    "df  =df[df.Element == \"Temperature change\"]"
   ]
  },
  {
   "cell_type": "code",
   "execution_count": 56,
   "metadata": {},
   "outputs": [
    {
     "data": {
      "text/html": [
       "<div>\n",
       "<style scoped>\n",
       "    .dataframe tbody tr th:only-of-type {\n",
       "        vertical-align: middle;\n",
       "    }\n",
       "\n",
       "    .dataframe tbody tr th {\n",
       "        vertical-align: top;\n",
       "    }\n",
       "\n",
       "    .dataframe thead th {\n",
       "        text-align: right;\n",
       "    }\n",
       "</style>\n",
       "<table border=\"1\" class=\"dataframe\">\n",
       "  <thead>\n",
       "    <tr style=\"text-align: right;\">\n",
       "      <th></th>\n",
       "      <th>Area</th>\n",
       "      <th>1960s</th>\n",
       "      <th>1970s</th>\n",
       "      <th>1980s</th>\n",
       "      <th>1990s</th>\n",
       "      <th>2000s</th>\n",
       "      <th>2010s</th>\n",
       "    </tr>\n",
       "  </thead>\n",
       "  <tbody>\n",
       "    <tr>\n",
       "      <th>32</th>\n",
       "      <td>Afghanistan</td>\n",
       "      <td>-0.1294</td>\n",
       "      <td>0.0317</td>\n",
       "      <td>0.2145</td>\n",
       "      <td>0.344700</td>\n",
       "      <td>0.970400</td>\n",
       "      <td>1.1188</td>\n",
       "    </tr>\n",
       "    <tr>\n",
       "      <th>66</th>\n",
       "      <td>Albania</td>\n",
       "      <td>0.1005</td>\n",
       "      <td>-0.1760</td>\n",
       "      <td>0.0346</td>\n",
       "      <td>0.396700</td>\n",
       "      <td>0.927000</td>\n",
       "      <td>1.5816</td>\n",
       "    </tr>\n",
       "    <tr>\n",
       "      <th>100</th>\n",
       "      <td>Algeria</td>\n",
       "      <td>0.0972</td>\n",
       "      <td>-0.1315</td>\n",
       "      <td>0.5516</td>\n",
       "      <td>0.799800</td>\n",
       "      <td>1.338700</td>\n",
       "      <td>1.5400</td>\n",
       "    </tr>\n",
       "    <tr>\n",
       "      <th>134</th>\n",
       "      <td>American Samoa</td>\n",
       "      <td>-0.1020</td>\n",
       "      <td>0.0145</td>\n",
       "      <td>0.3040</td>\n",
       "      <td>0.714667</td>\n",
       "      <td>0.782889</td>\n",
       "      <td>1.1611</td>\n",
       "    </tr>\n",
       "    <tr>\n",
       "      <th>168</th>\n",
       "      <td>Andorra</td>\n",
       "      <td>0.0773</td>\n",
       "      <td>-0.1164</td>\n",
       "      <td>0.4487</td>\n",
       "      <td>0.961500</td>\n",
       "      <td>1.199000</td>\n",
       "      <td>1.5096</td>\n",
       "    </tr>\n",
       "  </tbody>\n",
       "</table>\n",
       "</div>"
      ],
      "text/plain": [
       "               Area   1960s   1970s   1980s     1990s     2000s   2010s\n",
       "32      Afghanistan -0.1294  0.0317  0.2145  0.344700  0.970400  1.1188\n",
       "66          Albania  0.1005 -0.1760  0.0346  0.396700  0.927000  1.5816\n",
       "100         Algeria  0.0972 -0.1315  0.5516  0.799800  1.338700  1.5400\n",
       "134  American Samoa -0.1020  0.0145  0.3040  0.714667  0.782889  1.1611\n",
       "168         Andorra  0.0773 -0.1164  0.4487  0.961500  1.199000  1.5096"
      ]
     },
     "execution_count": 56,
     "metadata": {},
     "output_type": "execute_result"
    }
   ],
   "source": [
    "def getColNames(decade):\n",
    "    years = range(0,10)\n",
    "    return [\"Y\"+ str(decade[:-2])+str(year) for year in years]\n",
    "\n",
    "decades = [\"1960s\",\"1970s\",\"1980s\",\"1990s\",\"2000s\",\"2010s\"]\n",
    "df[\"Y1960\"] = 0\n",
    "for decade in decades:\n",
    "    years = getColNames(decade)\n",
    "    df[decade] = df[years].mean(axis=1)\n",
    "    #.mean(skipna=True,numeric_only=True, axis=0)\n",
    "df = df[[\"Area\"]+decades]\n",
    "df = df.dropna()\n",
    "\n",
    "df.head()"
   ]
  },
  {
   "cell_type": "code",
   "execution_count": 57,
   "metadata": {},
   "outputs": [],
   "source": [
    "fileBG = \"dataBG.json\"\n",
    "\n",
    "fpBG = os.path.join(os.getcwd(),\"data\", fileBG)         \n",
    "\n",
    "file = open(fpBG, \"w\")\n",
    "\n",
    "toFile = df.to_json(orient=\"split\")\n",
    "\n",
    "file.write(toFile)\n",
    "\n",
    "file.close()"
   ]
  },
  {
   "cell_type": "code",
   "execution_count": 52,
   "metadata": {},
   "outputs": [
    {
     "data": {
      "text/plain": [
       "[2, 3, 'decades']"
      ]
     },
     "execution_count": 52,
     "metadata": {},
     "output_type": "execute_result"
    }
   ],
   "source": [
    "[2,3]+[\"decades\"]"
   ]
  },
  {
   "cell_type": "code",
   "execution_count": null,
   "metadata": {},
   "outputs": [],
   "source": []
  }
 ],
 "metadata": {
  "kernelspec": {
   "display_name": "Python 3.9.0 64-bit",
   "language": "python",
   "name": "python3"
  },
  "language_info": {
   "codemirror_mode": {
    "name": "ipython",
    "version": 3
   },
   "file_extension": ".py",
   "mimetype": "text/x-python",
   "name": "python",
   "nbconvert_exporter": "python",
   "pygments_lexer": "ipython3",
   "version": "3.9.0"
  },
  "orig_nbformat": 4,
  "vscode": {
   "interpreter": {
    "hash": "81794d4967e6c3204c66dcd87b604927b115b27c00565d3d43f05ba2f3a2cb0d"
   }
  }
 },
 "nbformat": 4,
 "nbformat_minor": 2
}
